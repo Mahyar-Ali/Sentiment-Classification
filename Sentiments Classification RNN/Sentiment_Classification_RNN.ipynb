{
  "nbformat": 4,
  "nbformat_minor": 0,
  "metadata": {
    "colab": {
      "name": "Sentiment Classification RNN.ipynb",
      "provenance": []
    },
    "kernelspec": {
      "name": "python3",
      "display_name": "Python 3"
    },
    "accelerator": "GPU"
  },
  "cells": [
    {
      "cell_type": "code",
      "metadata": {
        "id": "AcZ0jX_8mabo",
        "colab_type": "code",
        "colab": {}
      },
      "source": [
        "!wget https://github.com/udacity/deep-learning/raw/master/sentiment-network/reviews.txt"
      ],
      "execution_count": 0,
      "outputs": []
    },
    {
      "cell_type": "code",
      "metadata": {
        "id": "VHyBwt4h4trm",
        "colab_type": "code",
        "colab": {}
      },
      "source": [
        "!wget https://raw.githubusercontent.com/udacity/deep-learning/master/sentiment-network/labels.txt"
      ],
      "execution_count": 0,
      "outputs": []
    },
    {
      "cell_type": "code",
      "metadata": {
        "id": "6j0PyJV27VCA",
        "colab_type": "code",
        "colab": {}
      },
      "source": [
        "%tensorflow_version 1.x"
      ],
      "execution_count": 0,
      "outputs": []
    },
    {
      "cell_type": "code",
      "metadata": {
        "id": "w3aoJbboxknY",
        "colab_type": "code",
        "colab": {}
      },
      "source": [
        "import numpy as np\n",
        "import tensorflow as tf"
      ],
      "execution_count": 0,
      "outputs": []
    },
    {
      "cell_type": "code",
      "metadata": {
        "id": "GsJb0aeAmd5d",
        "colab_type": "code",
        "colab": {}
      },
      "source": [
        "with open(\"reviews.txt\",'r') as file:\n",
        "  text = file.read()\n",
        "with open(\"labels.txt\",'r') as file:\n",
        "    labels = file.read()"
      ],
      "execution_count": 0,
      "outputs": []
    },
    {
      "cell_type": "code",
      "metadata": {
        "id": "3uhcSFPSmvGx",
        "colab_type": "code",
        "colab": {}
      },
      "source": [
        "from string import punctuation\n",
        "all_text = ''.join([c for c in text if c not in punctuation])\n",
        "reviews = all_text.split('\\n')\n",
        "\n",
        "all_text = ' '.join(reviews)\n",
        "\n",
        "words = all_text.split()"
      ],
      "execution_count": 0,
      "outputs": []
    },
    {
      "cell_type": "code",
      "metadata": {
        "id": "sQV2NU-Kqhra",
        "colab_type": "code",
        "colab": {}
      },
      "source": [
        "vocab_to_int = {word:index+1 for index,word in enumerate(list(set(words)))}\n",
        "reviews_ints = []\n",
        "for revi in reviews:\n",
        "  temp = []\n",
        "  for word in revi.split():\n",
        "    temp.append(vocab_to_int[word])\n",
        "  reviews_ints.append(temp)"
      ],
      "execution_count": 0,
      "outputs": []
    },
    {
      "cell_type": "code",
      "metadata": {
        "id": "MdFXZZFrtixl",
        "colab_type": "code",
        "colab": {}
      },
      "source": [
        "labels_split = (labels.split('\\n'))\n",
        "labels_int = np.array([1 if label=='positive'  else 0 for label in labels_split])"
      ],
      "execution_count": 0,
      "outputs": []
    },
    {
      "cell_type": "code",
      "metadata": {
        "id": "lluSHlfY5FzJ",
        "colab_type": "code",
        "colab": {
          "base_uri": "https://localhost:8080/",
          "height": 55
        },
        "outputId": "56bf14e8-9c58-49cc-d2a4-357994c27bdf"
      },
      "source": [
        "from collections import Counter\n",
        "review_lens = Counter([len(x) for x in reviews_ints])\n",
        "print(\"Zero-length reviews: {}\".format(review_lens[0]))\n",
        "print(\"Maximum review length: {}\".format(max(review_lens)))"
      ],
      "execution_count": 9,
      "outputs": [
        {
          "output_type": "stream",
          "text": [
            "Zero-length reviews: 1\n",
            "Maximum review length: 2514\n"
          ],
          "name": "stdout"
        }
      ]
    },
    {
      "cell_type": "code",
      "metadata": {
        "id": "pxgRQ0AA5heu",
        "colab_type": "code",
        "colab": {
          "base_uri": "https://localhost:8080/",
          "height": 36
        },
        "outputId": "bbdce6cf-3dc4-44d2-f583-141879d4af4d"
      },
      "source": [
        "non_zero_idx = [ii for ii, review in enumerate(reviews_ints) if len(review) != 0]\n",
        "len(non_zero_idx)"
      ],
      "execution_count": 10,
      "outputs": [
        {
          "output_type": "execute_result",
          "data": {
            "text/plain": [
              "25000"
            ]
          },
          "metadata": {
            "tags": []
          },
          "execution_count": 10
        }
      ]
    },
    {
      "cell_type": "code",
      "metadata": {
        "id": "hVb17Sg55jug",
        "colab_type": "code",
        "colab": {}
      },
      "source": [
        "reviews_ints = [reviews_ints[ii] for ii in non_zero_idx]\n",
        "labels = np.array([labels_int[ii] for ii in non_zero_idx])"
      ],
      "execution_count": 0,
      "outputs": []
    },
    {
      "cell_type": "code",
      "metadata": {
        "id": "TqdYR_w_yMkX",
        "colab_type": "code",
        "colab": {}
      },
      "source": [
        "seq_len = 200\n",
        "features = np.zeros([len(reviews_ints),seq_len],dtype='int')\n",
        "for idx,review in enumerate(reviews_ints):\n",
        "  length = len(review)\n",
        "  features[idx,-length:] = np.array(review)[:seq_len]"
      ],
      "execution_count": 0,
      "outputs": []
    },
    {
      "cell_type": "code",
      "metadata": {
        "id": "GH0OqCpt1ieG",
        "colab_type": "code",
        "colab": {}
      },
      "source": [
        "split_frac = 0.8\n",
        "from sklearn.model_selection import train_test_split"
      ],
      "execution_count": 0,
      "outputs": []
    },
    {
      "cell_type": "code",
      "metadata": {
        "id": "iQNxC4fp2IZy",
        "colab_type": "code",
        "colab": {}
      },
      "source": [
        "train_x,test_x,train_y,test_y = train_test_split(features,labels,train_size=split_frac)"
      ],
      "execution_count": 0,
      "outputs": []
    },
    {
      "cell_type": "code",
      "metadata": {
        "id": "NXIP-sab31Xz",
        "colab_type": "code",
        "colab": {}
      },
      "source": [
        "valid_x,test_x,valid_y,test_y = train_test_split(test_x,test_y,train_size=0.5)"
      ],
      "execution_count": 0,
      "outputs": []
    },
    {
      "cell_type": "code",
      "metadata": {
        "id": "uhIk4Nfi6Xqq",
        "colab_type": "code",
        "colab": {
          "base_uri": "https://localhost:8080/",
          "height": 93
        },
        "outputId": "ca6d08a8-e539-47eb-985c-0c72a80e7d05"
      },
      "source": [
        "print(\"\\t\\t\\tFeature Shapes:\")\n",
        "print(\"Train set: \\t\\t{}\".format(train_x.shape), \n",
        "      \"\\nValidation set: \\t{}\".format(valid_x.shape),\n",
        "      \"\\nTest set: \\t\\t{}\".format(test_x.shape))"
      ],
      "execution_count": 16,
      "outputs": [
        {
          "output_type": "stream",
          "text": [
            "\t\t\tFeature Shapes:\n",
            "Train set: \t\t(20000, 200) \n",
            "Validation set: \t(2500, 200) \n",
            "Test set: \t\t(2500, 200)\n"
          ],
          "name": "stdout"
        }
      ]
    },
    {
      "cell_type": "code",
      "metadata": {
        "id": "k1U_627m6cDC",
        "colab_type": "code",
        "colab": {}
      },
      "source": [
        "#Building the Graph\n",
        "\n",
        "#First definr the hyperparameters\n",
        "lstm_size = 256\n",
        "lstm_layers = 2\n",
        "batch_size = 500\n",
        "learning_rate = 0.001\n"
      ],
      "execution_count": 0,
      "outputs": []
    },
    {
      "cell_type": "code",
      "metadata": {
        "id": "h_Zxw7M37Aio",
        "colab_type": "code",
        "colab": {}
      },
      "source": [
        "n_words = len(vocab_to_int) + 1\n",
        "\n",
        "graph = tf.Graph()\n",
        "with graph.as_default():\n",
        "  inputs_  = tf.placeholder(dtype=tf.int32,shape=[None,None],name='input')\n",
        "  labels_  = tf.placeholder(dtype=tf.int32,shape=[None,None],name='labels')\n",
        "  keep_prob = tf.placeholder(dtype=tf.float32,name='keep_prob')"
      ],
      "execution_count": 0,
      "outputs": []
    },
    {
      "cell_type": "code",
      "metadata": {
        "id": "IIgc2ev58fEh",
        "colab_type": "code",
        "colab": {}
      },
      "source": [
        "embed_size = 300\n",
        "\n",
        "with graph.as_default():\n",
        "   embedding = tf.Variable(tf.truncated_normal([n_words,embed_size]))\n",
        "   embed = tf.nn.embedding_lookup(embedding,inputs_)"
      ],
      "execution_count": 0,
      "outputs": []
    },
    {
      "cell_type": "code",
      "metadata": {
        "id": "f7xeZ-IT-zua",
        "colab_type": "code",
        "colab": {}
      },
      "source": [
        "with graph.as_default():\n",
        "    def lstm():\n",
        "            lstm = tf.contrib.rnn.BasicLSTMCell(lstm_size)\n",
        "            \n",
        "            # Add dropout to the cell\n",
        "            drop = tf.contrib.rnn.DropoutWrapper(lstm, output_keep_prob=keep_prob)\n",
        "            return drop\n",
        "    # Stack up multiple LSTM layers, for deep learning\n",
        "    cell = tf.contrib.rnn.MultiRNNCell([lstm() for i in range(lstm_layers)])\n",
        "    \n",
        "    # Getting an initial state of all zeros\n",
        "    initial_state = cell.zero_state(batch_size, tf.float32)"
      ],
      "execution_count": 0,
      "outputs": []
    },
    {
      "cell_type": "code",
      "metadata": {
        "id": "XVk7XfjRGItP",
        "colab_type": "code",
        "colab": {}
      },
      "source": [
        "with graph.as_default():\n",
        "   outputs, final_state = tf.nn.dynamic_rnn(cell, embed,\n",
        "                                             initial_state=initial_state)"
      ],
      "execution_count": 0,
      "outputs": []
    },
    {
      "cell_type": "code",
      "metadata": {
        "id": "W_qNnRm4LTZT",
        "colab_type": "code",
        "colab": {}
      },
      "source": [
        "with graph.as_default():\n",
        "      predictions = tf.contrib.layers.fully_connected(outputs[:,-1],1,activation_fn=tf.sigmoid)\n",
        "\n",
        "      cost = tf.losses.mean_squared_error(labels_,predictions)\n",
        "\n",
        "      optimizer = tf.train.AdamOptimizer(learning_rate).minimize(cost)"
      ],
      "execution_count": 0,
      "outputs": []
    },
    {
      "cell_type": "code",
      "metadata": {
        "id": "VTmTI3NFMRae",
        "colab_type": "code",
        "colab": {}
      },
      "source": [
        "with graph.as_default():\n",
        "  correct_pred = tf.equal(tf.cast(tf.round(predictions),tf.int32),labels_)\n",
        "  accuracy = tf.reduce_mean(tf.cast(correct_pred,tf.float32))"
      ],
      "execution_count": 0,
      "outputs": []
    },
    {
      "cell_type": "code",
      "metadata": {
        "id": "esUV622INDA1",
        "colab_type": "code",
        "colab": {}
      },
      "source": [
        "def get_batches(x,y,batch_size):\n",
        "  n_batches = len(x)//batch_size\n",
        "  x, y = x[:n_batches*batch_size], y[:n_batches*batch_size]\n",
        "  for ii in range(0, len(x), batch_size):\n",
        "        yield x[ii:ii+batch_size], y[ii:ii+batch_size]"
      ],
      "execution_count": 0,
      "outputs": []
    },
    {
      "cell_type": "code",
      "metadata": {
        "id": "o6yokXaKNnAk",
        "colab_type": "code",
        "colab": {
          "base_uri": "https://localhost:8080/",
          "height": 1000
        },
        "outputId": "d3655d67-560b-4b98-84c7-2693fdb3ab9a"
      },
      "source": [
        "epochs = 15\n",
        "with graph.as_default():\n",
        "  saver = tf.train.Saver()\n",
        "\n",
        "with tf.Session(graph=graph) as sess:\n",
        "  sess.run(tf.global_variables_initializer())\n",
        "  iteration=1\n",
        "  for e in range(epochs):\n",
        "    state= sess.run(initial_state)\n",
        "    for ii,(x,y) in enumerate(get_batches(train_x,train_y,batch_size)):\n",
        "      feed = {inputs_:x\n",
        "              ,labels_:y[:,None],\n",
        "              keep_prob:0.5,\n",
        "              initial_state:state\n",
        "              }\n",
        "\n",
        "      loss,state,_ = sess.run([cost,final_state,optimizer],feed_dict=feed)\n",
        "      if iteration%5==0:\n",
        "                print(\"Epoch: {}/{}\".format(e, epochs),\n",
        "                      \"Iteration: {}\".format(iteration),\n",
        "                      \"Train loss: {:.3f}\".format(loss))\n",
        "      if iteration%25==0:\n",
        "                val_acc = []\n",
        "                val_state = sess.run(cell.zero_state(batch_size, tf.float32))\n",
        "                for x,y in get_batches(valid_x, valid_y, batch_size):\n",
        "                  feed = {inputs_: x,\n",
        "                            labels_: y[:, None],\n",
        "                            keep_prob: 1,\n",
        "                            initial_state: val_state}\n",
        "                  batch_acc, val_state = sess.run([accuracy, final_state], feed_dict=feed)\n",
        "                  val_acc.append(batch_acc)\n",
        "                print(\"Val acc: {:.3f}\".format(np.mean(val_acc)))\n",
        "      iteration +=1\n",
        "    saver.save(sess, \"checkpoints/sentiment.ckpt\")"
      ],
      "execution_count": 25,
      "outputs": [
        {
          "output_type": "stream",
          "text": [
            "Epoch: 5/15 Iteration: 240 Train loss: 0.061\n",
            "Epoch: 6/15 Iteration: 245 Train loss: 0.045\n",
            "Epoch: 6/15 Iteration: 250 Train loss: 0.059\n",
            "Val acc: 0.820\n",
            "Epoch: 6/15 Iteration: 255 Train loss: 0.039\n",
            "Epoch: 6/15 Iteration: 260 Train loss: 0.044\n",
            "Epoch: 6/15 Iteration: 265 Train loss: 0.040\n",
            "Epoch: 6/15 Iteration: 270 Train loss: 0.047\n",
            "Epoch: 6/15 Iteration: 275 Train loss: 0.036\n",
            "Val acc: 0.820\n",
            "Epoch: 6/15 Iteration: 280 Train loss: 0.037\n",
            "Epoch: 7/15 Iteration: 285 Train loss: 0.038\n",
            "Epoch: 7/15 Iteration: 290 Train loss: 0.041\n",
            "Epoch: 7/15 Iteration: 295 Train loss: 0.034\n",
            "Epoch: 7/15 Iteration: 300 Train loss: 0.033\n",
            "Val acc: 0.822\n",
            "Epoch: 7/15 Iteration: 305 Train loss: 0.034\n",
            "Epoch: 7/15 Iteration: 310 Train loss: 0.042\n",
            "Epoch: 7/15 Iteration: 315 Train loss: 0.049\n",
            "Epoch: 7/15 Iteration: 320 Train loss: 0.034\n",
            "Epoch: 8/15 Iteration: 325 Train loss: 0.024\n",
            "Val acc: 0.808\n",
            "Epoch: 8/15 Iteration: 330 Train loss: 0.037\n",
            "Epoch: 8/15 Iteration: 335 Train loss: 0.048\n",
            "Epoch: 8/15 Iteration: 340 Train loss: 0.060\n",
            "Epoch: 8/15 Iteration: 345 Train loss: 0.050\n",
            "Epoch: 8/15 Iteration: 350 Train loss: 0.040\n",
            "Val acc: 0.821\n",
            "Epoch: 8/15 Iteration: 355 Train loss: 0.028\n",
            "Epoch: 8/15 Iteration: 360 Train loss: 0.055\n",
            "Epoch: 9/15 Iteration: 365 Train loss: 0.041\n",
            "Epoch: 9/15 Iteration: 370 Train loss: 0.060\n",
            "Epoch: 9/15 Iteration: 375 Train loss: 0.053\n",
            "Val acc: 0.802\n",
            "Epoch: 9/15 Iteration: 380 Train loss: 0.037\n",
            "Epoch: 9/15 Iteration: 385 Train loss: 0.028\n",
            "Epoch: 9/15 Iteration: 390 Train loss: 0.023\n",
            "Epoch: 9/15 Iteration: 395 Train loss: 0.022\n",
            "Epoch: 9/15 Iteration: 400 Train loss: 0.018\n",
            "Val acc: 0.805\n",
            "Epoch: 10/15 Iteration: 405 Train loss: 0.021\n",
            "Epoch: 10/15 Iteration: 410 Train loss: 0.030\n",
            "Epoch: 10/15 Iteration: 415 Train loss: 0.017\n",
            "Epoch: 10/15 Iteration: 420 Train loss: 0.025\n",
            "Epoch: 10/15 Iteration: 425 Train loss: 0.033\n",
            "Val acc: 0.810\n",
            "Epoch: 10/15 Iteration: 430 Train loss: 0.047\n",
            "Epoch: 10/15 Iteration: 435 Train loss: 0.044\n",
            "Epoch: 10/15 Iteration: 440 Train loss: 0.024\n",
            "Epoch: 11/15 Iteration: 445 Train loss: 0.037\n",
            "Epoch: 11/15 Iteration: 450 Train loss: 0.051\n",
            "Val acc: 0.794\n",
            "Epoch: 11/15 Iteration: 455 Train loss: 0.031\n",
            "Epoch: 11/15 Iteration: 460 Train loss: 0.024\n",
            "Epoch: 11/15 Iteration: 465 Train loss: 0.022\n",
            "Epoch: 11/15 Iteration: 470 Train loss: 0.024\n",
            "Epoch: 11/15 Iteration: 475 Train loss: 0.014\n",
            "Val acc: 0.824\n",
            "Epoch: 11/15 Iteration: 480 Train loss: 0.013\n",
            "Epoch: 12/15 Iteration: 485 Train loss: 0.013\n",
            "Epoch: 12/15 Iteration: 490 Train loss: 0.027\n",
            "Epoch: 12/15 Iteration: 495 Train loss: 0.016\n",
            "Epoch: 12/15 Iteration: 500 Train loss: 0.016\n",
            "Val acc: 0.819\n",
            "Epoch: 12/15 Iteration: 505 Train loss: 0.013\n",
            "Epoch: 12/15 Iteration: 510 Train loss: 0.017\n",
            "Epoch: 12/15 Iteration: 515 Train loss: 0.019\n",
            "Epoch: 12/15 Iteration: 520 Train loss: 0.017\n",
            "Epoch: 13/15 Iteration: 525 Train loss: 0.007\n",
            "Val acc: 0.826\n",
            "Epoch: 13/15 Iteration: 530 Train loss: 0.019\n",
            "Epoch: 13/15 Iteration: 535 Train loss: 0.016\n",
            "Epoch: 13/15 Iteration: 540 Train loss: 0.012\n",
            "Epoch: 13/15 Iteration: 545 Train loss: 0.010\n",
            "Epoch: 13/15 Iteration: 550 Train loss: 0.019\n",
            "Val acc: 0.802\n",
            "Epoch: 13/15 Iteration: 555 Train loss: 0.021\n",
            "Epoch: 13/15 Iteration: 560 Train loss: 0.010\n",
            "Epoch: 14/15 Iteration: 565 Train loss: 0.010\n",
            "Epoch: 14/15 Iteration: 570 Train loss: 0.017\n",
            "Epoch: 14/15 Iteration: 575 Train loss: 0.012\n",
            "Val acc: 0.820\n",
            "Epoch: 14/15 Iteration: 580 Train loss: 0.011\n",
            "Epoch: 14/15 Iteration: 585 Train loss: 0.008\n",
            "Epoch: 14/15 Iteration: 590 Train loss: 0.010\n",
            "Epoch: 14/15 Iteration: 595 Train loss: 0.012\n",
            "Epoch: 14/15 Iteration: 600 Train loss: 0.016\n",
            "Val acc: 0.811\n"
          ],
          "name": "stdout"
        }
      ]
    },
    {
      "cell_type": "code",
      "metadata": {
        "id": "QIzMrhnTTsVu",
        "colab_type": "code",
        "colab": {
          "base_uri": "https://localhost:8080/",
          "height": 55
        },
        "outputId": "78ef3870-b549-4722-c6f0-8b3be36c9aff"
      },
      "source": [
        "test_acc = []\n",
        "with tf.Session(graph=graph) as sess:\n",
        "  saver.restore(sess,tf.train.latest_checkpoint('checkpoints'))\n",
        "  test_state = sess.run(cell.zero_state(batch_size,tf.float32))\n",
        "  for ii, (x, y) in enumerate(get_batches(test_x, test_y, batch_size), 1):\n",
        "            feed = {inputs_: x,\n",
        "                      labels_: y[:, None],\n",
        "                      keep_prob: 1,\n",
        "                      initial_state: test_state}\n",
        "            batch_acc, test_state = sess.run([accuracy, final_state], feed_dict=feed)\n",
        "            test_acc.append(batch_acc)\n",
        "  print(\"Test accuracy: {:.3f}\".format(np.mean(test_acc)))"
      ],
      "execution_count": 26,
      "outputs": [
        {
          "output_type": "stream",
          "text": [
            "INFO:tensorflow:Restoring parameters from checkpoints/sentiment.ckpt\n",
            "Test accuracy: 0.807\n"
          ],
          "name": "stdout"
        }
      ]
    },
    {
      "cell_type": "code",
      "metadata": {
        "id": "mNUkZ1YjVFhB",
        "colab_type": "code",
        "colab": {}
      },
      "source": [
        ""
      ],
      "execution_count": 0,
      "outputs": []
    }
  ]
}